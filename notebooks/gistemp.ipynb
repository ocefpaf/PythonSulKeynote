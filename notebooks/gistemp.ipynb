{
 "cells": [
  {
   "cell_type": "markdown",
   "metadata": {},
   "source": [
    "GHCN V2 Temperatures ANOM (C)  CR 1200KM 1880-present\n",
    "\n",
    "GLOBAL Temperature Anomalies in .01 C     base period: 1951-1980\n",
    "\n",
    "http://climatecode.org/"
   ]
  },
  {
   "cell_type": "code",
   "execution_count": 1,
   "metadata": {},
   "outputs": [],
   "source": [
    "import os\n",
    "import git\n",
    "\n",
    "\n",
    "if not os.path.exists('ccc-gistemp'):\n",
    "    git.Git().clone('https://github.com/ClimateCodeFoundation/ccc-gistemp.git')\n",
    "\n",
    "if not os.path.exists('madqc'):\n",
    "    git.Git().clone('https://github.com/ClimateCodeFoundation/madqc.git')"
   ]
  },
  {
   "cell_type": "markdown",
   "metadata": {},
   "source": [
    "It seems that\n",
    "\n",
    "http://data.giss.nasa.gov/gistemp/sources_v3/GISTEMPv3_sources.tar.gz\n",
    "\n",
    "and \n",
    "\n",
    "http://data.giss.nasa.gov/pub/gistemp/SBBX.ERSST.gz\n",
    "\n",
    "are down, so let's use a local copy instead."
   ]
  },
  {
   "cell_type": "code",
   "execution_count": 2,
   "metadata": {},
   "outputs": [],
   "source": [
    "!mkdir -p ccc-gistemp/input\n",
    "\n",
    "!cp GISTEMPv3_sources.tar.gz SBBX.ERSST.gz ccc-gistemp/input"
   ]
  },
  {
   "cell_type": "code",
   "execution_count": 3,
   "metadata": {},
   "outputs": [
    {
     "name": "stdout",
     "output_type": "stream",
     "text": [
      "/home/filipe/Dropbox/Meetings/2018-PythonSul/keynote/notebooks/ccc-gistemp\n"
     ]
    }
   ],
   "source": [
    "%cd ccc-gistemp/"
   ]
  },
  {
   "cell_type": "markdown",
   "metadata": {},
   "source": [
    "We don't really need `pypy` for the fetch phase, but the code is Python 2 and the notebook is Python 3, so this is just a lazy way to call py2k code from a py3k notebook ;-p\n",
    "\n",
    "PS: we are also using the International Surface Temperature Initiative data (ISTI)."
   ]
  },
  {
   "cell_type": "code",
   "execution_count": 4,
   "metadata": {},
   "outputs": [
    {
     "name": "stdout",
     "output_type": "stream",
     "text": [
      "Fetching ftp://ftp.ncdc.noaa.gov/pub/data/globaldatabank/monthly/stage3/recommended/results/recommended-ghcn_format.monthly.stage3.v1.1.1.20180307.tar.gz to input/isti.v1.tar.gz\n",
      "  116679933/116679933 [100%]00/116679933 [2%][4%]6679933 [6%]79933 [9%]0/116679933 [11%] [13%]840000/116679933 [15%]79933 [17%]/116679933 [21%][23%]76000/116679933 [25%]9933 [27%]116679933 [31%]34%]2000/116679933 [36%]933 [38%] 46968000/116679933 [40%]16679933 [42%]4%]000/116679933 [46%]33 [48%]59104000/116679933 [50%]6679933 [52%]%]00/116679933 [56%]3 [58%]1240000/116679933 [61%]679933 [63%]]0/116679933 [67%] [69%]376000/116679933 [71%]79933 [73%]/116679933 [77%][79%]12000/116679933 [81%]9933 [83%]0/116679933 [86%]]6679933 [90%]107376000/116679933 [92%]933 [94%]56000/116679933 [96%][98%]\n",
      "  ... input/isti.merged.inv from merged.monthly.stage3.v1.1.1.inv.\n",
      "  ... input/isti.merged.dat from merged.monthly.stage3.v1.1.1.dat.\n"
     ]
    }
   ],
   "source": [
    "!pypy tool/fetch.py isti"
   ]
  },
  {
   "cell_type": "markdown",
   "metadata": {},
   "source": [
    "QC the ISTI data."
   ]
  },
  {
   "cell_type": "code",
   "execution_count": 5,
   "metadata": {},
   "outputs": [
    {
     "name": "stdout",
     "output_type": "stream",
     "text": [
      " 100% ZIXLT831324 TAVG 1960 180       \n"
     ]
    }
   ],
   "source": [
    "!../madqc/mad.py --progress input/isti.merged.dat"
   ]
  },
  {
   "cell_type": "markdown",
   "metadata": {},
   "source": [
    "We need to copy the ISTI data into the `input` directory."
   ]
  },
  {
   "cell_type": "code",
   "execution_count": 6,
   "metadata": {},
   "outputs": [],
   "source": [
    "!cp isti.merged.qc.dat input/isti.merged.qc.dat\n",
    "\n",
    "!cp input/isti.merged.inv input/isti.merged.qc.inv"
   ]
  },
  {
   "cell_type": "markdown",
   "metadata": {},
   "source": [
    "Here is where `pypy` is really needed, this step takes ~35 minutes on valina `python` but only ~100 seconds on `pypy`."
   ]
  },
  {
   "cell_type": "code",
   "execution_count": 7,
   "metadata": {
    "scrolled": false
   },
   "outputs": [
    {
     "name": "stdout",
     "output_type": "stream",
     "text": [
      "Fetching ftp://ftp.ncdc.noaa.gov/pub/data/ghcn/v3/ghcnm.tavg.latest.qca.tar.gz to input/ghcnm.tavg.latest.qca.tar.gz\n",
      "  12780302/12780302 [100%]%]780302 [21%]44000/12780302 [41%]2%]2 [82%]\n",
      "  ... input/ghcnm.tavg.qca.dat from ./ghcnm.v3.3.0.20180405/ghcnm.tavg.v3.3.0.20180405.qca.dat.\n",
      "input/GISTEMPv3_sources.tar.gz already exists.\n",
      "  ... input/oisstv2_mod4.clim.gz from GISTEMP_sources/STEP4_5/input_files/oisstv2_mod4.clim.gz.\n",
      "  ... input/sumofday.tbl from GISTEMP_sources/STEP1/input_files/sumofday.tbl.\n",
      "  ... input/v3.inv from GISTEMP_sources/STEP1/input_files/v3.inv.\n",
      "  ... input/ushcn3.tbl from GISTEMP_sources/STEP1/input_files/ushcn3.tbl.\n",
      "  ... input/mcdw.tbl from GISTEMP_sources/STEP1/input_files/mcdw.tbl.\n",
      "  ... input/Ts.strange.v3.list.IN_full from GISTEMP_sources/STEP0/input_files/Ts.strange.v3.list.IN_full.\n",
      "  ... input/antarc2.list from GISTEMP_sources/STEP0/input_files/antarc2.list.\n",
      "  ... input/antarc3.list from GISTEMP_sources/STEP0/input_files/antarc3.list.\n",
      "  ... input/antarc1.list from GISTEMP_sources/STEP0/input_files/antarc1.list.\n",
      "  ... input/antarc1.txt from GISTEMP_sources/STEP0/input_files/antarc1.txt.\n",
      "  ... input/antarc2.txt from GISTEMP_sources/STEP0/input_files/antarc2.txt.\n",
      "  ... input/t_hohenpeissenberg_200306.txt_as_received_July17_2003 from GISTEMP_sources/STEP0/input_files/t_hohenpeissenberg_200306.txt_as_received_July17_2003.\n",
      "  ... input/antarc3.txt from GISTEMP_sources/STEP0/input_files/antarc3.txt.\n",
      "input/SBBX.ERSST.gz already exists.\n",
      "... creating directory log\n",
      "... creating directory result\n",
      "... creating directory work\n",
      "====> STEPS 0, 1, 3, 4, 5  ====\n",
      "No more recent sea-surface data files.\n",
      "\n",
      "Load ISTI.MERGED.QC.DAT records\n",
      "(Reading average temperature)\n",
      "Step 0: closing output file.\n",
      "Step 1: closing output file.\n",
      "Region (+64/+90 S/N -180/-090 W/E): 0 empty cells.\n",
      "Region (+64/+90 S/N -090/+000 W/E): 0 empty cells.\n",
      "Region (+64/+90 S/N +000/+090 W/E): 0 empty cells.\n",
      "Region (+64/+90 S/N +090/+180 W/E): 0 empty cells.\n",
      "Region (+44/+64 S/N -180/-135 W/E): 0 empty cells.\n",
      "Region (+44/+64 S/N -135/-090 W/E): 0 empty cells.\n",
      "Region (+44/+64 S/N -090/-045 W/E): 0 empty cells.\n",
      "Region (+44/+64 S/N -045/+000 W/E): 0 empty cells.\n",
      "Region (+44/+64 S/N +000/+045 W/E): 0 empty cells.\n",
      "Region (+44/+64 S/N +045/+090 W/E): 0 empty cells.\n",
      "Region (+44/+64 S/N +090/+135 W/E): 0 empty cells.\n",
      "Region (+44/+64 S/N +135/+180 W/E): 0 empty cells.\n",
      "Region (+24/+44 S/N -180/-150 W/E): 31 empty cells.\n",
      "Region (+24/+44 S/N -150/-120 W/E): 2 empty cells.\n",
      "Region (+24/+44 S/N -120/-090 W/E): 0 empty cells.\n",
      "Region (+24/+44 S/N -090/-060 W/E): 0 empty cells.\n",
      "Region (+24/+44 S/N -060/-030 W/E): 10 empty cells.\n",
      "Region (+24/+44 S/N -030/+000 W/E): 0 empty cells.\n",
      "Region (+24/+44 S/N +000/+030 W/E): 0 empty cells.\n",
      "Region (+24/+44 S/N +030/+060 W/E): 0 empty cells.\n",
      "Region (+24/+44 S/N +060/+090 W/E): 0 empty cells.\n",
      "Region (+24/+44 S/N +090/+120 W/E): 0 empty cells.\n",
      "Region (+24/+44 S/N +120/+150 W/E): 0 empty cells.\n",
      "Region (+24/+44 S/N +150/+180 W/E): 26 empty cells.\n",
      "Region (+00/+24 S/N -180/-158 W/E): 1 empty cell.\n",
      "Region (+00/+24 S/N -158/-135 W/E): 40 empty cells.\n",
      "Region (+00/+24 S/N -135/-112 W/E): 80 empty cells.\n",
      "Region (+00/+24 S/N -112/-090 W/E): 19 empty cells.\n",
      "Region (+00/+24 S/N -090/-068 W/E): 0 empty cells.\n",
      "Region (+00/+24 S/N -068/-045 W/E): 9 empty cells.\n",
      "Region (+00/+24 S/N -045/-022 W/E): 29 empty cells.\n",
      "Region (+00/+24 S/N -022/+000 W/E): 1 empty cell.\n",
      "Region (+00/+24 S/N +000/+022 W/E): 0 empty cells.\n",
      "Region (+00/+24 S/N +022/+045 W/E): 0 empty cells.\n",
      "Region (+00/+24 S/N +045/+068 W/E): 3 empty cells.\n",
      "Region (+00/+24 S/N +068/+090 W/E): 0 empty cells.\n",
      "Region (+00/+24 S/N +090/+112 W/E): 0 empty cells.\n",
      "Region (+00/+24 S/N +112/+135 W/E): 0 empty cells.\n",
      "Region (+00/+24 S/N +135/+158 W/E): 0 empty cells.\n",
      "Region (+00/+24 S/N +158/+180 W/E): 2 empty cells.\n",
      "Region (-24/-00 S/N -180/-158 W/E): 0 empty cells.\n",
      "Region (-24/-00 S/N -158/-135 W/E): 0 empty cells.\n",
      "Region (-24/-00 S/N -135/-112 W/E): 55 empty cells.\n",
      "Region (-24/-00 S/N -112/-090 W/E): 67 empty cells.\n",
      "Region (-24/-00 S/N -090/-068 W/E): 7 empty cells.\n",
      "Region (-24/-00 S/N -068/-045 W/E): 0 empty cells.\n",
      "Region (-24/-00 S/N -045/-022 W/E): 0 empty cells.\n",
      "Region (-24/-00 S/N -022/+000 W/E): 2 empty cells.\n",
      "Region (-24/-00 S/N +000/+022 W/E): 0 empty cells.\n",
      "Region (-24/-00 S/N +022/+045 W/E): 0 empty cells.\n",
      "Region (-24/-00 S/N +045/+068 W/E): 0 empty cells.\n",
      "Region (-24/-00 S/N +068/+090 W/E): 29 empty cells.\n",
      "Region (-24/-00 S/N +090/+112 W/E): 1 empty cell.\n",
      "Region (-24/-00 S/N +112/+135 W/E): 0 empty cells.\n",
      "Region (-24/-00 S/N +135/+158 W/E): 0 empty cells.\n",
      "Region (-24/-00 S/N +158/+180 W/E): 0 empty cells.\n",
      "Region (-44/-24 S/N -180/-150 W/E): 25 empty cells.\n",
      "Region (-44/-24 S/N -150/-120 W/E): 37 empty cells.\n",
      "Region (-44/-24 S/N -120/-090 W/E): 48 empty cells.\n",
      "Region (-44/-24 S/N -090/-060 W/E): 2 empty cells.\n",
      "Region (-44/-24 S/N -060/-030 W/E): 21 empty cells.\n",
      "Region (-44/-24 S/N -030/+000 W/E): 18 empty cells.\n",
      "Region (-44/-24 S/N +000/+030 W/E): 15 empty cells.\n",
      "Region (-44/-24 S/N +030/+060 W/E): 5 empty cells.\n",
      "Region (-44/-24 S/N +060/+090 W/E): 21 empty cells.\n",
      "Region (-44/-24 S/N +090/+120 W/E): 43 empty cells.\n",
      "Region (-44/-24 S/N +120/+150 W/E): 0 empty cells.\n",
      "Region (-44/-24 S/N +150/+180 W/E): 0 empty cells.\n",
      "Region (-64/-44 S/N -180/-135 W/E): 74 empty cells.\n",
      "Region (-64/-44 S/N -135/-090 W/E): 72 empty cells.\n",
      "Region (-64/-44 S/N -090/-045 W/E): 0 empty cells.\n",
      "Region (-64/-44 S/N -045/+000 W/E): 20 empty cells.\n",
      "Region (-64/-44 S/N +000/+045 W/E): 44 empty cells.\n",
      "Region (-64/-44 S/N +045/+090 W/E): 5 empty cells.\n",
      "Region (-64/-44 S/N +090/+135 W/E): 60 empty cells.\n",
      "Region (-64/-44 S/N +135/+180 W/E): 1 empty cell.\n",
      "Region (-90/-64 S/N -180/-090 W/E): 4 empty cells.\n",
      "Region (-90/-64 S/N -090/+000 W/E): 0 empty cells.\n",
      "Region (-90/-64 S/N +000/+090 W/E): 0 empty cells.\n",
      "Region (-90/-64 S/N +090/+180 W/E): 0 empty cells.\n",
      "\n",
      "Step3: closing output file\n",
      "Step4: closing output file\n",
      "WARNING: Bad mix of land and ocean data.\n",
      "  Land range from 1880-01 to 2018-02; Ocean range from 1880-01 to 2015-09.\n",
      "Step 5: Closing box file: result/landBX.Ts.GHCN.CL.PA.1200\n",
      "Step 5: Closing box file: result/oceanBX.Ts.ERSST.CL.PA\n",
      "Step 5: Closing box file: result/mixedBX.Ts.ERSST.GHCN.CL.PA.1200\n",
      "... running vischeck\n",
      "See result/google-chart.url\n",
      "====> Timing Summary ====\n",
      "Run took 223.5 seconds\n"
     ]
    }
   ],
   "source": [
    "!pypy tool/run.py -p 'data_sources=isti.merged.qc.dat;element=TAVG' -s 0-1,3-5"
   ]
  },
  {
   "cell_type": "markdown",
   "metadata": {},
   "source": [
    "Python `gistemp` saves the results in the same format as the Fortran program but it ships with `gistemp2csv.py` to make it easier to read the data with `pandas`."
   ]
  },
  {
   "cell_type": "code",
   "execution_count": 8,
   "metadata": {
    "scrolled": false
   },
   "outputs": [],
   "source": [
    "!pypy tool/gistemp2csv.py result/*.txt"
   ]
  },
  {
   "cell_type": "code",
   "execution_count": 9,
   "metadata": {},
   "outputs": [],
   "source": [
    "import pandas as pd\n",
    "\n",
    "\n",
    "df = pd.read_csv(\n",
    "    'result/landGLB.Ts.GHCN.CL.PA.csv',\n",
    "    skiprows=3,\n",
    "    index_col=0,\n",
    "    na_values=('*****', '****'),\n",
    ")"
   ]
  },
  {
   "cell_type": "markdown",
   "metadata": {},
   "source": [
    "Let's use `sklearn` to compute the full trend..."
   ]
  },
  {
   "cell_type": "code",
   "execution_count": 10,
   "metadata": {},
   "outputs": [],
   "source": [
    "from sklearn import linear_model\n",
    "from sklearn.metrics import mean_squared_error, r2_score\n",
    "\n",
    "\n",
    "reg0 = linear_model.LinearRegression()\n",
    "\n",
    "series0 = df['J-D'].dropna()\n",
    "y = series0.values\n",
    "X = series0.index.values[:, None]\n",
    "\n",
    "reg0.fit(X, y)\n",
    "y_pred0 = reg0.predict(X)\n",
    "R2_0 = mean_squared_error(y, y_pred0)\n",
    "var0 = r2_score(y, y_pred0)"
   ]
  },
  {
   "cell_type": "markdown",
   "metadata": {},
   "source": [
    " and the past 30 years trend."
   ]
  },
  {
   "cell_type": "code",
   "execution_count": 11,
   "metadata": {},
   "outputs": [],
   "source": [
    "reg1 = linear_model.LinearRegression()\n",
    "\n",
    "series1 = df['J-D'].dropna().iloc[-30:]\n",
    "y = series1.values\n",
    "X = series1.index.values[:, None]\n",
    "reg1.fit(X, y)\n",
    "y_pred1 = reg1.predict(X)\n",
    "R2_1 = mean_squared_error(y[-30:], y_pred1)\n",
    "var1 = r2_score(y[-30:], y_pred1)"
   ]
  },
  {
   "cell_type": "code",
   "execution_count": 12,
   "metadata": {},
   "outputs": [
    {
     "data": {
      "image/png": "[encoded data removed]",
      "text/plain": [
       "<Figure size 648x648 with 1 Axes>"
      ]
     },
     "metadata": {},
     "output_type": "display_data"
    }
   ],
   "source": [
    "%matplotlib inline\n",
    "\n",
    "ax = df.plot.line(y='J-D', figsize=(9, 9), legend=None)\n",
    "ax.plot(series0.index, y_pred0, 'r--')\n",
    "ax.plot(series1.index, y_pred1, 'r')\n",
    "ax.set_xlim([1879, 2018])\n",
    "\n",
    "leg = f\"\"\"Trend in ℃/century (R²)\n",
    "Full: {reg0.coef_[0]*100:0.2f} ({var0:0.2f})\n",
    "30-year: {reg1.coef_[0]*100:0.2f} ({var1:0.2f})\n",
    "\"\"\"\n",
    "\n",
    "ax.text(0.10, 0.75, leg, transform=ax.transAxes);"
   ]
  }
 ],
 "metadata": {
  "_draft": {
   "nbviewer_url": "https://gist.github.com/d1a8ea95faf3ff48a3114593f05a547e"
  },
  "gist": {
   "data": {
    "description": "gistemp.ipynb",
    "public": true
   },
   "id": "d1a8ea95faf3ff48a3114593f05a547e"
  },
  "kernelspec": {
   "display_name": "Python 3",
   "language": "python",
   "name": "python3"
  },
  "language_info": {
   "codemirror_mode": {
    "name": "ipython",
    "version": 3
   },
   "file_extension": ".py",
   "mimetype": "text/x-python",
   "name": "python",
   "nbconvert_exporter": "python",
   "pygments_lexer": "ipython3",
   "version": "3.6.5"
  }
 },
 "nbformat": 4,
 "nbformat_minor": 2
}
